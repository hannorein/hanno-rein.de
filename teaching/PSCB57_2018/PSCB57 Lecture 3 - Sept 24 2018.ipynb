{
 "cells": [
  {
   "cell_type": "markdown",
   "metadata": {},
   "source": [
    "# Floating point numbers\n",
    "## Understanding Part 1 of the Assignment"
   ]
  },
  {
   "cell_type": "code",
   "execution_count": 149,
   "metadata": {},
   "outputs": [],
   "source": [
    "import struct\n",
    "def printfloat(f):\n",
    "    b= ''.join(bin(c).replace('0b', '').rjust(8, '0') for c in struct.pack('!d', f))\n",
    "    print(\"%+.18f   %s %s %s \"%(f,b[0],b[1:12],b[12:]))        "
   ]
  },
  {
   "cell_type": "code",
   "execution_count": 150,
   "metadata": {},
   "outputs": [],
   "source": [
    "def f(x):\n",
    "    return ((x+1.)-1.)/x"
   ]
  },
  {
   "cell_type": "code",
   "execution_count": 151,
   "metadata": {},
   "outputs": [
    {
     "data": {
      "text/plain": [
       "0.9992007221626409"
      ]
     },
     "execution_count": 151,
     "metadata": {},
     "output_type": "execute_result"
    }
   ],
   "source": [
    "f(1e-14)"
   ]
  },
  {
   "cell_type": "code",
   "execution_count": 152,
   "metadata": {},
   "outputs": [
    {
     "name": "stdout",
     "output_type": "stream",
     "text": [
      "+1.000000000000000000   0 01111111111 0000000000000000000000000000000000000000000000000000 \n",
      "+0.000000000000010000   0 01111010000 0110100001001001101110000110101000010010101110011011 \n",
      "+1.000000000000009992   0 01111111111 0000000000000000000000000000000000000000000000101101 \n",
      "+0.000000000000009992   0 01111010000 0110100000000000000000000000000000000000000000000000 \n",
      "+0.999200722162640886   0 01111111110 1111111110010111001111001010111110101000000000000000 \n"
     ]
    }
   ],
   "source": [
    "printfloat(1.)\n",
    "printfloat(1.e-14)\n",
    "printfloat(1.+1.e-14)\n",
    "printfloat((1.+1.e-14)-1.0)\n",
    "printfloat(((1.+1.e-14)-1.0)/1e-14)"
   ]
  },
  {
   "cell_type": "markdown",
   "metadata": {},
   "source": [
    "## Understanding part 2 of the assignment"
   ]
  },
  {
   "cell_type": "code",
   "execution_count": 153,
   "metadata": {},
   "outputs": [],
   "source": [
    "def g(x):\n",
    "    for i in range(620):\n",
    "        x = x*10\n",
    "    return x"
   ]
  },
  {
   "cell_type": "code",
   "execution_count": 154,
   "metadata": {},
   "outputs": [
    {
     "data": {
      "text/plain": [
       "inf"
      ]
     },
     "execution_count": 154,
     "metadata": {},
     "output_type": "execute_result"
    }
   ],
   "source": [
    "g(1.1)"
   ]
  },
  {
   "cell_type": "code",
   "execution_count": 155,
   "metadata": {},
   "outputs": [
    {
     "name": "stdout",
     "output_type": "stream",
     "text": [
      "+1.100000000000000089   0 01111111111 0001100110011001100110011001100110011001100110011010 \n",
      "+2.200000000000000178   0 10000000000 0001100110011001100110011001100110011001100110011010 \n",
      "+35.200000000000002842   0 10000000100 0001100110011001100110011001100110011001100110011010 \n",
      "+98873122417427382908473023632275606974479585989181125770191586378583137703214499471837230003180407951447924604472070704082121749617910118260818040426085411364459534523001698181988912585028057835850081401098701903474409853464050558133894031280936535995263854668699094060454612769188010537093426902669362987008.000000000000000000   0 11111111110 0001100110011001100110011001100110011001100110011010 \n",
      "+inf   0 11111111111 0000000000000000000000000000000000000000000000000000 \n"
     ]
    }
   ],
   "source": [
    "printfloat(1.1)\n",
    "printfloat(1.1*2.)\n",
    "printfloat(1.1*2.*2.*2.*2.*2.)\n",
    "x = 1.1\n",
    "for i in range(1023):\n",
    "    x = x*2.\n",
    "printfloat(x)\n",
    "printfloat(2.*x)"
   ]
  },
  {
   "cell_type": "code",
   "execution_count": 32,
   "metadata": {},
   "outputs": [
    {
     "data": {
      "text/plain": [
       "8.98846567431158e+307"
      ]
     },
     "execution_count": 32,
     "metadata": {},
     "output_type": "execute_result"
    }
   ],
   "source": [
    "2.**1023"
   ]
  },
  {
   "cell_type": "markdown",
   "metadata": {},
   "source": [
    "# Working with packages\n",
    "## Numpy"
   ]
  },
  {
   "cell_type": "code",
   "execution_count": 35,
   "metadata": {},
   "outputs": [],
   "source": [
    "import numpy as np"
   ]
  },
  {
   "cell_type": "code",
   "execution_count": 37,
   "metadata": {},
   "outputs": [],
   "source": [
    "pi = np.pi"
   ]
  },
  {
   "cell_type": "markdown",
   "metadata": {},
   "source": [
    "## Creating numpy arrays from python lists"
   ]
  },
  {
   "cell_type": "code",
   "execution_count": 40,
   "metadata": {},
   "outputs": [],
   "source": [
    "a = [1.,2.,3.,4.]"
   ]
  },
  {
   "cell_type": "code",
   "execution_count": 43,
   "metadata": {},
   "outputs": [],
   "source": [
    "b = np.array([1.,2.,3.,4.])"
   ]
  },
  {
   "cell_type": "code",
   "execution_count": 45,
   "metadata": {},
   "outputs": [
    {
     "data": {
      "text/plain": [
       "array([ 9., 11., 13., 15.])"
      ]
     },
     "execution_count": 45,
     "metadata": {},
     "output_type": "execute_result"
    }
   ],
   "source": [
    "2.*b+7."
   ]
  },
  {
   "cell_type": "markdown",
   "metadata": {},
   "source": [
    "## Creating arrays with np.zeros"
   ]
  },
  {
   "cell_type": "code",
   "execution_count": 47,
   "metadata": {},
   "outputs": [],
   "source": [
    "c  = np.zeros(1000)"
   ]
  },
  {
   "cell_type": "code",
   "execution_count": 48,
   "metadata": {},
   "outputs": [],
   "source": [
    "c[0] = 9"
   ]
  },
  {
   "cell_type": "code",
   "execution_count": 50,
   "metadata": {},
   "outputs": [],
   "source": [
    "c[999] = 7."
   ]
  },
  {
   "cell_type": "code",
   "execution_count": 51,
   "metadata": {},
   "outputs": [
    {
     "data": {
      "text/plain": [
       "array([9., 0., 0., 0., 0., 0., 0., 0., 0., 0., 0., 0., 0., 0., 0., 0., 0.,\n",
       "       0., 0., 0., 0., 0., 0., 0., 0., 0., 0., 0., 0., 0., 0., 0., 0., 0.,\n",
       "       0., 0., 0., 0., 0., 0., 0., 0., 0., 0., 0., 0., 0., 0., 0., 0., 0.,\n",
       "       0., 0., 0., 0., 0., 0., 0., 0., 0., 0., 0., 0., 0., 0., 0., 0., 0.,\n",
       "       0., 0., 0., 0., 0., 0., 0., 0., 0., 0., 0., 0., 0., 0., 0., 0., 0.,\n",
       "       0., 0., 0., 0., 0., 0., 0., 0., 0., 0., 0., 0., 0., 0., 0., 0., 0.,\n",
       "       0., 0., 0., 0., 0., 0., 0., 0., 0., 0., 0., 0., 0., 0., 0., 0., 0.,\n",
       "       0., 0., 0., 0., 0., 0., 0., 0., 0., 0., 0., 0., 0., 0., 0., 0., 0.,\n",
       "       0., 0., 0., 0., 0., 0., 0., 0., 0., 0., 0., 0., 0., 0., 0., 0., 0.,\n",
       "       0., 0., 0., 0., 0., 0., 0., 0., 0., 0., 0., 0., 0., 0., 0., 0., 0.,\n",
       "       0., 0., 0., 0., 0., 0., 0., 0., 0., 0., 0., 0., 0., 0., 0., 0., 0.,\n",
       "       0., 0., 0., 0., 0., 0., 0., 0., 0., 0., 0., 0., 0., 0., 0., 0., 0.,\n",
       "       0., 0., 0., 0., 0., 0., 0., 0., 0., 0., 0., 0., 0., 0., 0., 0., 0.,\n",
       "       0., 0., 0., 0., 0., 0., 0., 0., 0., 0., 0., 0., 0., 0., 0., 0., 0.,\n",
       "       0., 0., 0., 0., 0., 0., 0., 0., 0., 0., 0., 0., 0., 0., 0., 0., 0.,\n",
       "       0., 0., 0., 0., 0., 0., 0., 0., 0., 0., 0., 0., 0., 0., 0., 0., 0.,\n",
       "       0., 0., 0., 0., 0., 0., 0., 0., 0., 0., 0., 0., 0., 0., 0., 0., 0.,\n",
       "       0., 0., 0., 0., 0., 0., 0., 0., 0., 0., 0., 0., 0., 0., 0., 0., 0.,\n",
       "       0., 0., 0., 0., 0., 0., 0., 0., 0., 0., 0., 0., 0., 0., 0., 0., 0.,\n",
       "       0., 0., 0., 0., 0., 0., 0., 0., 0., 0., 0., 0., 0., 0., 0., 0., 0.,\n",
       "       0., 0., 0., 0., 0., 0., 0., 0., 0., 0., 0., 0., 0., 0., 0., 0., 0.,\n",
       "       0., 0., 0., 0., 0., 0., 0., 0., 0., 0., 0., 0., 0., 0., 0., 0., 0.,\n",
       "       0., 0., 0., 0., 0., 0., 0., 0., 0., 0., 0., 0., 0., 0., 0., 0., 0.,\n",
       "       0., 0., 0., 0., 0., 0., 0., 0., 0., 0., 0., 0., 0., 0., 0., 0., 0.,\n",
       "       0., 0., 0., 0., 0., 0., 0., 0., 0., 0., 0., 0., 0., 0., 0., 0., 0.,\n",
       "       0., 0., 0., 0., 0., 0., 0., 0., 0., 0., 0., 0., 0., 0., 0., 0., 0.,\n",
       "       0., 0., 0., 0., 0., 0., 0., 0., 0., 0., 0., 0., 0., 0., 0., 0., 0.,\n",
       "       0., 0., 0., 0., 0., 0., 0., 0., 0., 0., 0., 0., 0., 0., 0., 0., 0.,\n",
       "       0., 0., 0., 0., 0., 0., 0., 0., 0., 0., 0., 0., 0., 0., 0., 0., 0.,\n",
       "       0., 0., 0., 0., 0., 0., 0., 0., 0., 0., 0., 0., 0., 0., 0., 0., 0.,\n",
       "       0., 0., 0., 0., 0., 0., 0., 0., 0., 0., 0., 0., 0., 0., 0., 0., 0.,\n",
       "       0., 0., 0., 0., 0., 0., 0., 0., 0., 0., 0., 0., 0., 0., 0., 0., 0.,\n",
       "       0., 0., 0., 0., 0., 0., 0., 0., 0., 0., 0., 0., 0., 0., 0., 0., 0.,\n",
       "       0., 0., 0., 0., 0., 0., 0., 0., 0., 0., 0., 0., 0., 0., 0., 0., 0.,\n",
       "       0., 0., 0., 0., 0., 0., 0., 0., 0., 0., 0., 0., 0., 0., 0., 0., 0.,\n",
       "       0., 0., 0., 0., 0., 0., 0., 0., 0., 0., 0., 0., 0., 0., 0., 0., 0.,\n",
       "       0., 0., 0., 0., 0., 0., 0., 0., 0., 0., 0., 0., 0., 0., 0., 0., 0.,\n",
       "       0., 0., 0., 0., 0., 0., 0., 0., 0., 0., 0., 0., 0., 0., 0., 0., 0.,\n",
       "       0., 0., 0., 0., 0., 0., 0., 0., 0., 0., 0., 0., 0., 0., 0., 0., 0.,\n",
       "       0., 0., 0., 0., 0., 0., 0., 0., 0., 0., 0., 0., 0., 0., 0., 0., 0.,\n",
       "       0., 0., 0., 0., 0., 0., 0., 0., 0., 0., 0., 0., 0., 0., 0., 0., 0.,\n",
       "       0., 0., 0., 0., 0., 0., 0., 0., 0., 0., 0., 0., 0., 0., 0., 0., 0.,\n",
       "       0., 0., 0., 0., 0., 0., 0., 0., 0., 0., 0., 0., 0., 0., 0., 0., 0.,\n",
       "       0., 0., 0., 0., 0., 0., 0., 0., 0., 0., 0., 0., 0., 0., 0., 0., 0.,\n",
       "       0., 0., 0., 0., 0., 0., 0., 0., 0., 0., 0., 0., 0., 0., 0., 0., 0.,\n",
       "       0., 0., 0., 0., 0., 0., 0., 0., 0., 0., 0., 0., 0., 0., 0., 0., 0.,\n",
       "       0., 0., 0., 0., 0., 0., 0., 0., 0., 0., 0., 0., 0., 0., 0., 0., 0.,\n",
       "       0., 0., 0., 0., 0., 0., 0., 0., 0., 0., 0., 0., 0., 0., 0., 0., 0.,\n",
       "       0., 0., 0., 0., 0., 0., 0., 0., 0., 0., 0., 0., 0., 0., 0., 0., 0.,\n",
       "       0., 0., 0., 0., 0., 0., 0., 0., 0., 0., 0., 0., 0., 0., 0., 0., 0.,\n",
       "       0., 0., 0., 0., 0., 0., 0., 0., 0., 0., 0., 0., 0., 0., 0., 0., 0.,\n",
       "       0., 0., 0., 0., 0., 0., 0., 0., 0., 0., 0., 0., 0., 0., 0., 0., 0.,\n",
       "       0., 0., 0., 0., 0., 0., 0., 0., 0., 0., 0., 0., 0., 0., 0., 0., 0.,\n",
       "       0., 0., 0., 0., 0., 0., 0., 0., 0., 0., 0., 0., 0., 0., 0., 0., 0.,\n",
       "       0., 0., 0., 0., 0., 0., 0., 0., 0., 0., 0., 0., 0., 0., 0., 0., 0.,\n",
       "       0., 0., 0., 0., 0., 0., 0., 0., 0., 0., 0., 0., 0., 0., 0., 0., 0.,\n",
       "       0., 0., 0., 0., 0., 0., 0., 0., 0., 0., 0., 0., 0., 0., 0., 0., 0.,\n",
       "       0., 0., 0., 0., 0., 0., 0., 0., 0., 0., 0., 0., 0., 0., 0., 0., 0.,\n",
       "       0., 0., 0., 0., 0., 0., 0., 0., 0., 0., 0., 0., 0., 7.])"
      ]
     },
     "execution_count": 51,
     "metadata": {},
     "output_type": "execute_result"
    }
   ],
   "source": [
    "c"
   ]
  },
  {
   "cell_type": "markdown",
   "metadata": {},
   "source": [
    "## Creating arrays with linspace"
   ]
  },
  {
   "cell_type": "code",
   "execution_count": 56,
   "metadata": {},
   "outputs": [
    {
     "data": {
      "text/plain": [
       "array([ 0.        ,  1.11111111,  2.22222222,  3.33333333,  4.44444444,\n",
       "        5.55555556,  6.66666667,  7.77777778,  8.88888889, 10.        ])"
      ]
     },
     "execution_count": 56,
     "metadata": {},
     "output_type": "execute_result"
    }
   ],
   "source": [
    "np.linspace(0.,10.,10)"
   ]
  },
  {
   "cell_type": "markdown",
   "metadata": {},
   "source": [
    "## Arrays have a datatype too\n",
    "Floating point by default. Here is an integer one:"
   ]
  },
  {
   "cell_type": "code",
   "execution_count": 57,
   "metadata": {},
   "outputs": [
    {
     "data": {
      "text/plain": [
       "array([0, 0, 0, 0, 0, 0, 0, 0, 0, 0])"
      ]
     },
     "execution_count": 57,
     "metadata": {},
     "output_type": "execute_result"
    }
   ],
   "source": [
    "np.zeros(10,dtype=int)"
   ]
  },
  {
   "cell_type": "markdown",
   "metadata": {},
   "source": [
    "# Matplotlib\n",
    "## Plotting data with plot and scatter"
   ]
  },
  {
   "cell_type": "code",
   "execution_count": 58,
   "metadata": {},
   "outputs": [],
   "source": [
    "%matplotlib inline\n",
    "import matplotlib.pyplot as plt"
   ]
  },
  {
   "cell_type": "code",
   "execution_count": 100,
   "metadata": {},
   "outputs": [
    {
     "data": {
      "text/plain": [
       "<matplotlib.collections.PathCollection at 0x10c8d0390>"
      ]
     },
     "execution_count": 100,
     "metadata": {},
     "output_type": "execute_result"
    },
    {
     "data": {
      "image/png": "[encoded data removed]",
      "text/plain": [
       "<Figure size 432x288 with 1 Axes>"
      ]
     },
     "metadata": {},
     "output_type": "display_data"
    }
   ],
   "source": [
    "fig, ax = plt.subplots(1,1)\n",
    "ax.plot(np.array([1,2]),np.array([3,4]))\n",
    "ax.plot(np.array([1,2]),np.array([7,2]))\n",
    "\n",
    "ax.scatter(np.array([1,2]),np.array([3,4]))\n",
    "ax.scatter(np.array([1,2]),np.array([7,2]))"
   ]
  },
  {
   "cell_type": "markdown",
   "metadata": {},
   "source": [
    "## Plotting a function"
   ]
  },
  {
   "cell_type": "code",
   "execution_count": 156,
   "metadata": {},
   "outputs": [],
   "source": [
    "x = np.linspace(0.,10.,300)"
   ]
  },
  {
   "cell_type": "code",
   "execution_count": 157,
   "metadata": {},
   "outputs": [
    {
     "data": {
      "text/plain": [
       "array([ 0.        ,  0.03344482,  0.06688963,  0.10033445,  0.13377926,\n",
       "        0.16722408,  0.2006689 ,  0.23411371,  0.26755853,  0.30100334,\n",
       "        0.33444816,  0.36789298,  0.40133779,  0.43478261,  0.46822742,\n",
       "        0.50167224,  0.53511706,  0.56856187,  0.60200669,  0.63545151,\n",
       "        0.66889632,  0.70234114,  0.73578595,  0.76923077,  0.80267559,\n",
       "        0.8361204 ,  0.86956522,  0.90301003,  0.93645485,  0.96989967,\n",
       "        1.00334448,  1.0367893 ,  1.07023411,  1.10367893,  1.13712375,\n",
       "        1.17056856,  1.20401338,  1.23745819,  1.27090301,  1.30434783,\n",
       "        1.33779264,  1.37123746,  1.40468227,  1.43812709,  1.47157191,\n",
       "        1.50501672,  1.53846154,  1.57190635,  1.60535117,  1.63879599,\n",
       "        1.6722408 ,  1.70568562,  1.73913043,  1.77257525,  1.80602007,\n",
       "        1.83946488,  1.8729097 ,  1.90635452,  1.93979933,  1.97324415,\n",
       "        2.00668896,  2.04013378,  2.0735786 ,  2.10702341,  2.14046823,\n",
       "        2.17391304,  2.20735786,  2.24080268,  2.27424749,  2.30769231,\n",
       "        2.34113712,  2.37458194,  2.40802676,  2.44147157,  2.47491639,\n",
       "        2.5083612 ,  2.54180602,  2.57525084,  2.60869565,  2.64214047,\n",
       "        2.67558528,  2.7090301 ,  2.74247492,  2.77591973,  2.80936455,\n",
       "        2.84280936,  2.87625418,  2.909699  ,  2.94314381,  2.97658863,\n",
       "        3.01003344,  3.04347826,  3.07692308,  3.11036789,  3.14381271,\n",
       "        3.17725753,  3.21070234,  3.24414716,  3.27759197,  3.31103679,\n",
       "        3.34448161,  3.37792642,  3.41137124,  3.44481605,  3.47826087,\n",
       "        3.51170569,  3.5451505 ,  3.57859532,  3.61204013,  3.64548495,\n",
       "        3.67892977,  3.71237458,  3.7458194 ,  3.77926421,  3.81270903,\n",
       "        3.84615385,  3.87959866,  3.91304348,  3.94648829,  3.97993311,\n",
       "        4.01337793,  4.04682274,  4.08026756,  4.11371237,  4.14715719,\n",
       "        4.18060201,  4.21404682,  4.24749164,  4.28093645,  4.31438127,\n",
       "        4.34782609,  4.3812709 ,  4.41471572,  4.44816054,  4.48160535,\n",
       "        4.51505017,  4.54849498,  4.5819398 ,  4.61538462,  4.64882943,\n",
       "        4.68227425,  4.71571906,  4.74916388,  4.7826087 ,  4.81605351,\n",
       "        4.84949833,  4.88294314,  4.91638796,  4.94983278,  4.98327759,\n",
       "        5.01672241,  5.05016722,  5.08361204,  5.11705686,  5.15050167,\n",
       "        5.18394649,  5.2173913 ,  5.25083612,  5.28428094,  5.31772575,\n",
       "        5.35117057,  5.38461538,  5.4180602 ,  5.45150502,  5.48494983,\n",
       "        5.51839465,  5.55183946,  5.58528428,  5.6187291 ,  5.65217391,\n",
       "        5.68561873,  5.71906355,  5.75250836,  5.78595318,  5.81939799,\n",
       "        5.85284281,  5.88628763,  5.91973244,  5.95317726,  5.98662207,\n",
       "        6.02006689,  6.05351171,  6.08695652,  6.12040134,  6.15384615,\n",
       "        6.18729097,  6.22073579,  6.2541806 ,  6.28762542,  6.32107023,\n",
       "        6.35451505,  6.38795987,  6.42140468,  6.4548495 ,  6.48829431,\n",
       "        6.52173913,  6.55518395,  6.58862876,  6.62207358,  6.65551839,\n",
       "        6.68896321,  6.72240803,  6.75585284,  6.78929766,  6.82274247,\n",
       "        6.85618729,  6.88963211,  6.92307692,  6.95652174,  6.98996656,\n",
       "        7.02341137,  7.05685619,  7.090301  ,  7.12374582,  7.15719064,\n",
       "        7.19063545,  7.22408027,  7.25752508,  7.2909699 ,  7.32441472,\n",
       "        7.35785953,  7.39130435,  7.42474916,  7.45819398,  7.4916388 ,\n",
       "        7.52508361,  7.55852843,  7.59197324,  7.62541806,  7.65886288,\n",
       "        7.69230769,  7.72575251,  7.75919732,  7.79264214,  7.82608696,\n",
       "        7.85953177,  7.89297659,  7.9264214 ,  7.95986622,  7.99331104,\n",
       "        8.02675585,  8.06020067,  8.09364548,  8.1270903 ,  8.16053512,\n",
       "        8.19397993,  8.22742475,  8.26086957,  8.29431438,  8.3277592 ,\n",
       "        8.36120401,  8.39464883,  8.42809365,  8.46153846,  8.49498328,\n",
       "        8.52842809,  8.56187291,  8.59531773,  8.62876254,  8.66220736,\n",
       "        8.69565217,  8.72909699,  8.76254181,  8.79598662,  8.82943144,\n",
       "        8.86287625,  8.89632107,  8.92976589,  8.9632107 ,  8.99665552,\n",
       "        9.03010033,  9.06354515,  9.09698997,  9.13043478,  9.1638796 ,\n",
       "        9.19732441,  9.23076923,  9.26421405,  9.29765886,  9.33110368,\n",
       "        9.36454849,  9.39799331,  9.43143813,  9.46488294,  9.49832776,\n",
       "        9.53177258,  9.56521739,  9.59866221,  9.63210702,  9.66555184,\n",
       "        9.69899666,  9.73244147,  9.76588629,  9.7993311 ,  9.83277592,\n",
       "        9.86622074,  9.89966555,  9.93311037,  9.96655518, 10.        ])"
      ]
     },
     "execution_count": 157,
     "metadata": {},
     "output_type": "execute_result"
    }
   ],
   "source": [
    "x"
   ]
  },
  {
   "cell_type": "markdown",
   "metadata": {},
   "source": [
    "If it's a numpy function:"
   ]
  },
  {
   "cell_type": "code",
   "execution_count": 73,
   "metadata": {},
   "outputs": [],
   "source": [
    "sinx = np.zeros(len(x))"
   ]
  },
  {
   "cell_type": "markdown",
   "metadata": {},
   "source": [
    "Doing it element-wise by hand:"
   ]
  },
  {
   "cell_type": "code",
   "execution_count": 158,
   "metadata": {},
   "outputs": [],
   "source": [
    "for i in range(len(x)):\n",
    "    sinx[i] = np.sin(x[i])+np.random.random()  #adding some random numbers to simulate noise here"
   ]
  },
  {
   "cell_type": "code",
   "execution_count": 159,
   "metadata": {},
   "outputs": [
    {
     "data": {
      "text/plain": [
       "<matplotlib.collections.PathCollection at 0x10d894940>"
      ]
     },
     "execution_count": 159,
     "metadata": {},
     "output_type": "execute_result"
    },
    {
     "data": {
      "image/png": "[encoded data removed]",
      "text/plain": [
       "<Figure size 432x288 with 1 Axes>"
      ]
     },
     "metadata": {},
     "output_type": "display_data"
    }
   ],
   "source": [
    "fig, ax = plt.subplots(1,1)\n",
    "ax.scatter(x,sinx)"
   ]
  },
  {
   "cell_type": "markdown",
   "metadata": {},
   "source": [
    "## Creating a 2D numpy array"
   ]
  },
  {
   "cell_type": "code",
   "execution_count": 160,
   "metadata": {},
   "outputs": [],
   "source": [
    "N = 100\n",
    "grid = np.zeros((N,N))"
   ]
  },
  {
   "cell_type": "code",
   "execution_count": 161,
   "metadata": {},
   "outputs": [],
   "source": [
    "grid[0][0] = 1.\n",
    "grid[1][0] = 2.\n",
    "grid[2,0] = 3."
   ]
  },
  {
   "cell_type": "code",
   "execution_count": 162,
   "metadata": {},
   "outputs": [
    {
     "data": {
      "text/plain": [
       "array([[1., 0., 0., ..., 0., 0., 0.],\n",
       "       [2., 0., 0., ..., 0., 0., 0.],\n",
       "       [3., 0., 0., ..., 0., 0., 0.],\n",
       "       ...,\n",
       "       [0., 0., 0., ..., 0., 0., 0.],\n",
       "       [0., 0., 0., ..., 0., 0., 0.],\n",
       "       [0., 0., 0., ..., 0., 0., 0.]])"
      ]
     },
     "execution_count": 162,
     "metadata": {},
     "output_type": "execute_result"
    }
   ],
   "source": [
    "grid"
   ]
  },
  {
   "cell_type": "markdown",
   "metadata": {},
   "source": [
    "## Filling the array with some data "
   ]
  },
  {
   "cell_type": "code",
   "execution_count": 163,
   "metadata": {},
   "outputs": [],
   "source": [
    "for i in range(grid.shape[0]):\n",
    "    for j in range(grid.shape[1]):\n",
    "        grid[i][j] = np.sin(0.1*np.sqrt((i-50.)**2.+(j-50.)**2))"
   ]
  },
  {
   "cell_type": "code",
   "execution_count": 164,
   "metadata": {},
   "outputs": [
    {
     "data": {
      "text/plain": [
       "array([[0.70886129, 0.65752491, 0.60351654, ..., 0.54721238, 0.60351654,\n",
       "        0.65752491],\n",
       "       [0.65752491, 0.6023654 , 0.54477011, ..., 0.48513083, 0.54477011,\n",
       "        0.6023654 ],\n",
       "       [0.60351654, 0.54477011, 0.48384227, ..., 0.42113947, 0.48384227,\n",
       "        0.54477011],\n",
       "       ...,\n",
       "       [0.54721238, 0.48513083, 0.42113947, ..., 0.3556584 , 0.42113947,\n",
       "        0.48513083],\n",
       "       [0.60351654, 0.54477011, 0.48384227, ..., 0.42113947, 0.48384227,\n",
       "        0.54477011],\n",
       "       [0.65752491, 0.6023654 , 0.54477011, ..., 0.48513083, 0.54477011,\n",
       "        0.6023654 ]])"
      ]
     },
     "execution_count": 164,
     "metadata": {},
     "output_type": "execute_result"
    }
   ],
   "source": [
    "grid"
   ]
  },
  {
   "cell_type": "markdown",
   "metadata": {},
   "source": [
    "## Plotting a slice of the data"
   ]
  },
  {
   "cell_type": "code",
   "execution_count": 165,
   "metadata": {},
   "outputs": [
    {
     "data": {
      "text/plain": [
       "[<matplotlib.lines.Line2D at 0x10d9ae198>]"
      ]
     },
     "execution_count": 165,
     "metadata": {},
     "output_type": "execute_result"
    },
    {
     "data": {
      "image/png": "[encoded data removed]",
      "text/plain": [
       "<Figure size 432x288 with 1 Axes>"
      ]
     },
     "metadata": {},
     "output_type": "display_data"
    }
   ],
   "source": [
    "fig, ax = plt.subplots(1,1)\n",
    "ax.plot(grid[0])"
   ]
  },
  {
   "cell_type": "markdown",
   "metadata": {},
   "source": [
    "## Plotting a \"heatmap\"\n",
    "By default python uses the viridis colormap, which is good. "
   ]
  },
  {
   "cell_type": "code",
   "execution_count": 166,
   "metadata": {},
   "outputs": [
    {
     "data": {
      "text/plain": [
       "Text(0.5,0,'x [m]')"
      ]
     },
     "execution_count": 166,
     "metadata": {},
     "output_type": "execute_result"
    },
    {
     "data": {
      "image/png": "[encoded data removed]",
      "text/plain": [
       "<Figure size 432x288 with 2 Axes>"
      ]
     },
     "metadata": {},
     "output_type": "display_data"
    }
   ],
   "source": [
    "fig, ax = plt.subplots(1,1)\n",
    "img1 = ax.imshow(grid)\n",
    "cb = fig.colorbar(img1)\n",
    "cb.set_label(\"temperature [C]\")\n",
    "ax.set_ylabel(\"y [m]\")\n",
    "ax.set_xlabel(\"x [m]\")"
   ]
  },
  {
   "cell_type": "markdown",
   "metadata": {},
   "source": [
    "## Bad colormap example"
   ]
  },
  {
   "cell_type": "code",
   "execution_count": 167,
   "metadata": {},
   "outputs": [
    {
     "data": {
      "text/plain": [
       "Text(0.5,0,'x [m]')"
      ]
     },
     "execution_count": 167,
     "metadata": {},
     "output_type": "execute_result"
    },
    {
     "data": {
      "image/png": "[encoded data removed]",
      "text/plain": [
       "<Figure size 432x288 with 2 Axes>"
      ]
     },
     "metadata": {},
     "output_type": "display_data"
    }
   ],
   "source": [
    "fig, ax = plt.subplots(1,1)\n",
    "img1 = ax.imshow(grid,cmap=\"jet\")\n",
    "cb = fig.colorbar(img1)\n",
    "cb.set_label(\"temperature [C]\")\n",
    "ax.set_ylabel(\"y [m]\")\n",
    "ax.set_xlabel(\"x [m]\")"
   ]
  },
  {
   "cell_type": "code",
   "execution_count": null,
   "metadata": {},
   "outputs": [],
   "source": []
  }
 ],
 "metadata": {
  "kernelspec": {
   "display_name": "Python 3",
   "language": "python",
   "name": "python3"
  },
  "language_info": {
   "codemirror_mode": {
    "name": "ipython",
    "version": 3
   },
   "file_extension": ".py",
   "mimetype": "text/x-python",
   "name": "python",
   "nbconvert_exporter": "python",
   "pygments_lexer": "ipython3",
   "version": "3.6.5"
  }
 },
 "nbformat": 4,
 "nbformat_minor": 2
}
